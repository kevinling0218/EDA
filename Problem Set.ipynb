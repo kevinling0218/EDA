{
 "cells": [
  {
   "cell_type": "markdown",
   "metadata": {},
   "source": [
    "# Problem 1"
   ]
  },
  {
   "cell_type": "code",
   "execution_count": 93,
   "metadata": {},
   "outputs": [],
   "source": [
    "def find_children(parent, nodes):\n",
    "    '''Find the children of give parents'''\n",
    "    # Find chilren if the parent is root\n",
    "    if parent is not None:\n",
    "        children = [n for n in nodes if n['parent_id'] == parent['id']]\n",
    "        return children\n",
    "    # Find children if parent is not root\n",
    "    else:\n",
    "        children = [n for n in nodes if n['level']==0]\n",
    "        return children\n",
    "        \n",
    "def build_tree(tree, parent, nodes, max_level):\n",
    "    '''Build tree based on the current level'''\n",
    "    \n",
    "    # Find children for current parents\n",
    "    children = find_children(parent, nodes)\n",
    "    \n",
    "    for child in children:\n",
    "        \n",
    "        # If the node is already at second last level, output the child as list\n",
    "        if child['level'] == max_level-1:\n",
    "            tree[child['name']] = [child['name'] for child in find_children(child,nodes)]\n",
    "        \n",
    "        # If the node is not reaching the end, continue build trees\n",
    "        else:\n",
    "            tree[child['name']] = {}\n",
    "            build_tree(tree[child['name']], child, nodes, max_level)\n",
    "\n",
    "def build_dict(nodes):\n",
    "    '''The final function to build hierarchical dictionary'''\n",
    "    \n",
    "    result_dict = {}\n",
    "    \n",
    "    # Get maximum level of the list\n",
    "    max_level = max([item['level'] for item in input_list])\n",
    "    \n",
    "    # Start from root\n",
    "    build_tree(tree, None, nodes, max_level)\n",
    "    return tree"
   ]
  },
  {
   "cell_type": "code",
   "execution_count": 94,
   "metadata": {},
   "outputs": [
    {
     "data": {
      "text/plain": [
       "{'PROVINCE_A': {'CITY_B': {'DISTRICT_C': ['VILLAGE_D', 'VILLAGE_E']}},\n",
       " 'PROVINCE_F': {'CITY_G': {'DISTRICT_H': ['VILLAGE_I']}}}"
      ]
     },
     "execution_count": 94,
     "metadata": {},
     "output_type": "execute_result"
    }
   ],
   "source": [
    "### Testing out the result\n",
    "\n",
    "input_list = [\n",
    " {\"id\": 1, \"level\": 0, \"parent_id\": 0, \"name\": \"PROVINCE_A\"},\n",
    " {\"id\": 2, \"level\": 1, \"parent_id\": 1, \"name\": \"CITY_B\"},\n",
    " {\"id\": 3, \"level\": 2, \"parent_id\": 2, \"name\": \"DISTRICT_C\"},\n",
    " {\"id\": 4, \"level\": 3, \"parent_id\": 3, \"name\": \"VILLAGE_D\"},\n",
    " {\"id\": 5, \"level\": 3, \"parent_id\": 3, \"name\": \"VILLAGE_E\"},\n",
    " {\"id\": 6, \"level\": 0, \"parent_id\": 0, \"name\": \"PROVINCE_F\"},\n",
    " {\"id\": 7, \"level\": 1, \"parent_id\": 6, \"name\": \"CITY_G\"},\n",
    " {\"id\": 8, \"level\": 2, \"parent_id\": 7, \"name\": \"DISTRICT_H\"},\n",
    " {\"id\": 9, \"level\": 3, \"parent_id\": 8, \"name\": \"VILLAGE_I\"}\n",
    "]\n",
    "\n",
    "build_dict(input_list)"
   ]
  },
  {
   "cell_type": "markdown",
   "metadata": {},
   "source": [
    "# "
   ]
  },
  {
   "cell_type": "code",
   "execution_count": null,
   "metadata": {},
   "outputs": [],
   "source": []
  }
 ],
 "metadata": {
  "kernelspec": {
   "display_name": "Python 3",
   "language": "python",
   "name": "python3"
  },
  "language_info": {
   "codemirror_mode": {
    "name": "ipython",
    "version": 3
   },
   "file_extension": ".py",
   "mimetype": "text/x-python",
   "name": "python",
   "nbconvert_exporter": "python",
   "pygments_lexer": "ipython3",
   "version": "3.7.1"
  }
 },
 "nbformat": 4,
 "nbformat_minor": 2
}
