{
 "cells": [
  {
   "cell_type": "code",
   "execution_count": 3,
   "metadata": {},
   "outputs": [
    {
     "name": "stdout",
     "output_type": "stream",
     "text": [
      "Populating the interactive namespace from numpy and matplotlib\n"
     ]
    }
   ],
   "source": [
    "import numpy as np\n",
    "import pandas as pd\n",
    "import seaborn as sns\n",
    "import matplotlib.pyplot as plt\n",
    "import os\n",
    "%pylab inline\n",
    "pylab.rcParams['figure.figsize'] = (10, 6)"
   ]
  },
  {
   "cell_type": "code",
   "execution_count": 4,
   "metadata": {},
   "outputs": [
    {
     "name": "stderr",
     "output_type": "stream",
     "text": [
      "/Library/Frameworks/Python.framework/Versions/3.7/lib/python3.7/site-packages/IPython/core/interactiveshell.py:3020: DtypeWarning: Columns (5,8,11,15) have mixed types. Specify dtype option on import or set low_memory=False.\n",
      "  interactivity=interactivity, compiler=compiler, result=result)\n"
     ]
    }
   ],
   "source": [
    "### Read data\n",
    "\n",
    "DATA_FOLDER = './data/'\n",
    "\n",
    "df_train = pd.read_csv(os.path.join(DATA_FOLDER, 'train_ver2.csv'))"
   ]
  },
  {
   "cell_type": "code",
   "execution_count": 20,
   "metadata": {},
   "outputs": [
    {
     "data": {
      "text/plain": [
       "(142762, 48)"
      ]
     },
     "execution_count": 20,
     "metadata": {},
     "output_type": "execute_result"
    }
   ],
   "source": [
    "df_train.shape"
   ]
  },
  {
   "cell_type": "code",
   "execution_count": 19,
   "metadata": {},
   "outputs": [],
   "source": [
    "### Downsample the dataframe since its too large\n",
    "unique_ids = pd.Series(df_train[\"ncodpers\"].unique())\n",
    "limit_people = 10000 # Limit to 100k people\n",
    "sample_ids = unique_ids.sample(n=limit_people)\n",
    "df_train = df_train[df_train.ncodpers.isin(sample_ids)]"
   ]
  },
  {
   "cell_type": "code",
   "execution_count": null,
   "metadata": {},
   "outputs": [],
   "source": []
  },
  {
   "cell_type": "code",
   "execution_count": 11,
   "metadata": {},
   "outputs": [],
   "source": [
    "### Seperate last month from the training data\n",
    "df_train['fecha_dato'] = pd.to_datetime(df_train['fecha_dato'],format = \"%Y-%m-%d\")\n",
    "df_train['fecha_alta'] = pd.to_datetime(df_train['fecha_alta'],format = \"%Y-%m-%d\")"
   ]
  },
  {
   "cell_type": "markdown",
   "metadata": {},
   "source": [
    "# Basic Data Cleaning\n"
   ]
  },
  {
   "cell_type": "code",
   "execution_count": 12,
   "metadata": {},
   "outputs": [
    {
     "data": {
      "text/plain": [
       "fecha_dato               False\n",
       "ncodpers                 False\n",
       "ind_empleado              True\n",
       "pais_residencia           True\n",
       "sexo                      True\n",
       "age                      False\n",
       "fecha_alta                True\n",
       "ind_nuevo                 True\n",
       "antiguedad               False\n",
       "indrel                    True\n",
       "ult_fec_cli_1t            True\n",
       "indrel_1mes               True\n",
       "tiprel_1mes               True\n",
       "indresi                   True\n",
       "indext                    True\n",
       "conyuemp                  True\n",
       "canal_entrada             True\n",
       "indfall                   True\n",
       "tipodom                   True\n",
       "cod_prov                  True\n",
       "nomprov                   True\n",
       "ind_actividad_cliente     True\n",
       "renta                     True\n",
       "segmento                  True\n",
       "ind_ahor_fin_ult1        False\n",
       "ind_aval_fin_ult1        False\n",
       "ind_cco_fin_ult1         False\n",
       "ind_cder_fin_ult1        False\n",
       "ind_cno_fin_ult1         False\n",
       "ind_ctju_fin_ult1        False\n",
       "ind_ctma_fin_ult1        False\n",
       "ind_ctop_fin_ult1        False\n",
       "ind_ctpp_fin_ult1        False\n",
       "ind_deco_fin_ult1        False\n",
       "ind_deme_fin_ult1        False\n",
       "ind_dela_fin_ult1        False\n",
       "ind_ecue_fin_ult1        False\n",
       "ind_fond_fin_ult1        False\n",
       "ind_hip_fin_ult1         False\n",
       "ind_plan_fin_ult1        False\n",
       "ind_pres_fin_ult1        False\n",
       "ind_reca_fin_ult1        False\n",
       "ind_tjcr_fin_ult1        False\n",
       "ind_valo_fin_ult1        False\n",
       "ind_viv_fin_ult1         False\n",
       "ind_nomina_ult1           True\n",
       "ind_nom_pens_ult1         True\n",
       "ind_recibo_ult1          False\n",
       "dtype: bool"
      ]
     },
     "execution_count": 12,
     "metadata": {},
     "output_type": "execute_result"
    }
   ],
   "source": [
    "# Whether containing null value\n",
    "df_train.isnull().any()"
   ]
  },
  {
   "cell_type": "code",
   "execution_count": 56,
   "metadata": {},
   "outputs": [
    {
     "name": "stdout",
     "output_type": "stream",
     "text": [
      "The total NaN values are: 288\n",
      "The maximum number of records for these customers having are: 6\n"
     ]
    }
   ],
   "source": [
    "# ind_nuevo --> Whether customer is new or not\n",
    "# This can be inferred from how many months of history customer have\n",
    "\n",
    "print (\"The total NaN values are:\", df_train[\"ind_nuevo\"].isnull().sum())\n",
    "months_active = df_train.loc[df_train[\"ind_nuevo\"].isnull(),:].groupby(\n",
    "    \"ncodpers\", sort=False).size()\n",
    "print(\"The maximum number of records for these customers having are:\",\n",
    "      months_active.max())"
   ]
  },
  {
   "cell_type": "code",
   "execution_count": 59,
   "metadata": {},
   "outputs": [],
   "source": [
    "# Since the maximum number of records are 6, consider those are new customer\n",
    "df_train.loc[df_train[\"ind_nuevo\"].isnull(), \"ind_nuevo\"] = 1"
   ]
  },
  {
   "cell_type": "code",
   "execution_count": 66,
   "metadata": {},
   "outputs": [],
   "source": [
    "# Column antiguedad\n",
    "df_train.antiguedad = pd.to_numeric(df_train.antiguedad, errors = 'coerce')\n",
    "df_train.loc[df_train['antiguedad'].isnull(),'angiguedad'] = df_train.antiguedad.min()\n",
    "df_train.loc[df_train['antiguedad']<0,'antiguedad'] = 0\n"
   ]
  },
  {
   "cell_type": "code",
   "execution_count": 75,
   "metadata": {},
   "outputs": [],
   "source": [
    "# For joining the company date, put median \n",
    "dates = df_train['fecha_alta'].sort_values().reset_index()"
   ]
  },
  {
   "cell_type": "code",
   "execution_count": 72,
   "metadata": {},
   "outputs": [],
   "source": [
    "median_date = int(np.median(dates.index.values))\n",
    "df_train.loc[df_train.fecha_alta.isnull(),'fecha_alta'] = median_date"
   ]
  },
  {
   "cell_type": "code",
   "execution_count": 76,
   "metadata": {},
   "outputs": [
    {
     "data": {
      "text/plain": [
       "count                  142762\n",
       "unique                   3733\n",
       "top       2014-10-03 00:00:00\n",
       "freq                      670\n",
       "Name: fecha_alta, dtype: object"
      ]
     },
     "execution_count": 76,
     "metadata": {},
     "output_type": "execute_result"
    }
   ],
   "source": [
    "df_train.fecha_alta.describe()"
   ]
  },
  {
   "cell_type": "code",
   "execution_count": 80,
   "metadata": {},
   "outputs": [],
   "source": [
    "# indrel --> Put in common type\n",
    "df_train.indrel.value_counts()\n",
    "df_train.loc[df_train.indrel.isnull(),\"indrel\"] = 1"
   ]
  },
  {
   "cell_type": "code",
   "execution_count": 82,
   "metadata": {},
   "outputs": [],
   "source": [
    "# For tipodom and cod_prov, it is already indicated by column nomprov, so drop them\n",
    "df_train.drop(['tipodom','cod_prov'], axis = 1, inplace = True)"
   ]
  },
  {
   "cell_type": "code",
   "execution_count": 84,
   "metadata": {},
   "outputs": [],
   "source": [
    "# nomprov --> Since its text figure, fill in UNKNOWN\n",
    "df_train.loc[df_train.nomprov.isnull(),\"nomprov\"] = 'UNKNOWN'"
   ]
  },
  {
   "cell_type": "code",
   "execution_count": 95,
   "metadata": {},
   "outputs": [],
   "source": [
    "# renta --> Fill in with the median for the respective province\n",
    "incomes = df_train.loc[df_train.renta.notnull(),:].groupby('nomprov').agg(\n",
    "{\"renta\":{\"MedianIncome\":median}})\n",
    "incomes.sort_values(by=('renta','MedianIncome'),inplace=True)"
   ]
  },
  {
   "cell_type": "code",
   "execution_count": 97,
   "metadata": {},
   "outputs": [],
   "source": [
    "incomes.reset_index(inplace = True)"
   ]
  },
  {
   "cell_type": "code",
   "execution_count": 101,
   "metadata": {},
   "outputs": [
    {
     "name": "stderr",
     "output_type": "stream",
     "text": [
      "/Library/Frameworks/Python.framework/Versions/3.7/lib/python3.7/site-packages/ipykernel_launcher.py:2: FutureWarning: specifying 'categories' or 'ordered' in .astype() is deprecated; pass a CategoricalDtype instead\n",
      "  \n"
     ]
    }
   ],
   "source": [
    "incomes.nomprov = incomes.nomprov.astype(\"category\", categories = [\n",
    "    i for i in df_train.nomprov.unique()], ordered= False)"
   ]
  },
  {
   "cell_type": "code",
   "execution_count": 105,
   "metadata": {},
   "outputs": [
    {
     "name": "stderr",
     "output_type": "stream",
     "text": [
      "/Library/Frameworks/Python.framework/Versions/3.7/lib/python3.7/site-packages/seaborn/categorical.py:3666: UserWarning: The `factorplot` function has been renamed to `catplot`. The original name will be removed in a future release. Please update your code. Note that the default `kind` in `factorplot` (`'point'`) has changed `'strip'` in `catplot`.\n",
      "  warnings.warn(msg)\n",
      "/Library/Frameworks/Python.framework/Versions/3.7/lib/python3.7/site-packages/seaborn/categorical.py:3672: UserWarning: The `size` paramter has been renamed to `height`; please update your code.\n",
      "  warnings.warn(msg, UserWarning)\n"
     ]
    },
    {
     "data": {
      "text/plain": [
       "([<matplotlib.axis.YTick at 0x123c65358>,\n",
       "  <matplotlib.axis.YTick at 0x123c68ba8>,\n",
       "  <matplotlib.axis.YTick at 0x123c54160>,\n",
       "  <matplotlib.axis.YTick at 0x123c84358>,\n",
       "  <matplotlib.axis.YTick at 0x123c7d630>],\n",
       " <a list of 5 Text yticklabel objects>)"
      ]
     },
     "execution_count": 105,
     "metadata": {},
     "output_type": "execute_result"
    },
    {
     "data": {
      "image/png": "[encoded data removed]",
      "text/plain": [
       "<Figure size 648x432 with 1 Axes>"
      ]
     },
     "metadata": {},
     "output_type": "display_data"
    }
   ],
   "source": [
    "with sns.axes_style({\n",
    "    \"axes.facecolor\":\"#ffc400\",\n",
    "    \"axes.grid\":False,\n",
    "    \"figure.facecolor\":\"#c60b1e\"\n",
    "}):\n",
    "    h = sns.factorplot(\n",
    "    data = incomes,\n",
    "    x = 'nomprov',\n",
    "    y = ('renta','MedianIncome'),\n",
    "    order = (i for i in incomes.nomprov),\n",
    "    size = 6,\n",
    "    aspect = 1.5,\n",
    "    scale = 1.0,\n",
    "    color = '#c60b1e',\n",
    "    linestyles = 'None'\n",
    "    )\n",
    "    \n",
    "plt.xticks(rotation = 90)\n",
    "plt.tick_params(labelsize=16,labelcolor=\"#ffc400\")#\n",
    "plt.ylabel(\"Median Income\",size=32,color=\"#ffc400\")\n",
    "plt.xlabel(\"City\",size=32,color=\"#ffc400\")\n",
    "plt.title(\"Income Distribution by City\",size=40,color=\"#ffc400\")\n",
    "plt.ylim(0,180000)\n",
    "plt.yticks(range(0,180000,40000))"
   ]
  },
  {
   "cell_type": "code",
   "execution_count": 106,
   "metadata": {},
   "outputs": [
    {
     "name": "stderr",
     "output_type": "stream",
     "text": [
      "/Library/Frameworks/Python.framework/Versions/3.7/lib/python3.7/site-packages/numpy/lib/nanfunctions.py:1019: RuntimeWarning: Mean of empty slice\n",
      "  return np.nanmean(a, axis, out=out, keepdims=keepdims)\n"
     ]
    }
   ],
   "source": [
    "# Obtain the median value of each province\n",
    "grouped = df_train.groupby('nomprov').agg({\"renta\":\n",
    "                                          lambda x: \n",
    "                                           x.median(skipna=True)}).reset_index()"
   ]
  },
  {
   "cell_type": "code",
   "execution_count": 143,
   "metadata": {},
   "outputs": [
    {
     "ename": "ValueError",
     "evalue": "cannot insert level_0, already exists",
     "output_type": "error",
     "traceback": [
      "\u001b[0;31m---------------------------------------------------------------------------\u001b[0m",
      "\u001b[0;31mValueError\u001b[0m                                Traceback (most recent call last)",
      "\u001b[0;32m<ipython-input-143-39903eb16a19>\u001b[0m in \u001b[0;36m<module>\u001b[0;34m\u001b[0m\n\u001b[1;32m      3\u001b[0m \u001b[0mnew_incomes\u001b[0m \u001b[0;34m=\u001b[0m \u001b[0mnew_incomes\u001b[0m\u001b[0;34m.\u001b[0m\u001b[0mrename\u001b[0m\u001b[0;34m(\u001b[0m\u001b[0mcolumns\u001b[0m\u001b[0;34m=\u001b[0m\u001b[0;34m{\u001b[0m\u001b[0;34m'renta_y'\u001b[0m\u001b[0;34m:\u001b[0m\u001b[0;34m'renta'\u001b[0m\u001b[0;34m}\u001b[0m\u001b[0;34m)\u001b[0m\u001b[0;34m.\u001b[0m\u001b[0msort_values\u001b[0m\u001b[0;34m(\u001b[0m\u001b[0;34m\"nomprov\"\u001b[0m\u001b[0;34m)\u001b[0m\u001b[0;34m\u001b[0m\u001b[0;34m\u001b[0m\u001b[0m\n\u001b[1;32m      4\u001b[0m \u001b[0mdf_train\u001b[0m\u001b[0;34m.\u001b[0m\u001b[0msort_values\u001b[0m\u001b[0;34m(\u001b[0m\u001b[0;34m'nomprov'\u001b[0m\u001b[0;34m,\u001b[0m \u001b[0minplace\u001b[0m \u001b[0;34m=\u001b[0m \u001b[0;32mTrue\u001b[0m\u001b[0;34m)\u001b[0m\u001b[0;34m\u001b[0m\u001b[0;34m\u001b[0m\u001b[0m\n\u001b[0;32m----> 5\u001b[0;31m \u001b[0mdf_train\u001b[0m \u001b[0;34m=\u001b[0m \u001b[0mdf_train\u001b[0m\u001b[0;34m.\u001b[0m\u001b[0mreset_index\u001b[0m\u001b[0;34m(\u001b[0m\u001b[0;34m)\u001b[0m\u001b[0;34m\u001b[0m\u001b[0;34m\u001b[0m\u001b[0m\n\u001b[0m\u001b[1;32m      6\u001b[0m \u001b[0mnew_incomes\u001b[0m \u001b[0;34m=\u001b[0m \u001b[0mnew_incomes\u001b[0m\u001b[0;34m.\u001b[0m\u001b[0mreset_index\u001b[0m\u001b[0;34m(\u001b[0m\u001b[0;34m)\u001b[0m\u001b[0;34m\u001b[0m\u001b[0;34m\u001b[0m\u001b[0m\n",
      "\u001b[0;32m/Library/Frameworks/Python.framework/Versions/3.7/lib/python3.7/site-packages/pandas/core/frame.py\u001b[0m in \u001b[0;36mreset_index\u001b[0;34m(self, level, drop, inplace, col_level, col_fill)\u001b[0m\n\u001b[1;32m   4137\u001b[0m                 \u001b[0;31m# to ndarray and maybe infer different dtype\u001b[0m\u001b[0;34m\u001b[0m\u001b[0;34m\u001b[0m\u001b[0;34m\u001b[0m\u001b[0m\n\u001b[1;32m   4138\u001b[0m                 \u001b[0mlevel_values\u001b[0m \u001b[0;34m=\u001b[0m \u001b[0m_maybe_casted_values\u001b[0m\u001b[0;34m(\u001b[0m\u001b[0mlev\u001b[0m\u001b[0;34m,\u001b[0m \u001b[0mlab\u001b[0m\u001b[0;34m)\u001b[0m\u001b[0;34m\u001b[0m\u001b[0;34m\u001b[0m\u001b[0m\n\u001b[0;32m-> 4139\u001b[0;31m                 \u001b[0mnew_obj\u001b[0m\u001b[0;34m.\u001b[0m\u001b[0minsert\u001b[0m\u001b[0;34m(\u001b[0m\u001b[0;36m0\u001b[0m\u001b[0;34m,\u001b[0m \u001b[0mname\u001b[0m\u001b[0;34m,\u001b[0m \u001b[0mlevel_values\u001b[0m\u001b[0;34m)\u001b[0m\u001b[0;34m\u001b[0m\u001b[0;34m\u001b[0m\u001b[0m\n\u001b[0m\u001b[1;32m   4140\u001b[0m \u001b[0;34m\u001b[0m\u001b[0m\n\u001b[1;32m   4141\u001b[0m         \u001b[0mnew_obj\u001b[0m\u001b[0;34m.\u001b[0m\u001b[0mindex\u001b[0m \u001b[0;34m=\u001b[0m \u001b[0mnew_index\u001b[0m\u001b[0;34m\u001b[0m\u001b[0;34m\u001b[0m\u001b[0m\n",
      "\u001b[0;32m/Library/Frameworks/Python.framework/Versions/3.7/lib/python3.7/site-packages/pandas/core/frame.py\u001b[0m in \u001b[0;36minsert\u001b[0;34m(self, loc, column, value, allow_duplicates)\u001b[0m\n\u001b[1;32m   3220\u001b[0m         \u001b[0mvalue\u001b[0m \u001b[0;34m=\u001b[0m \u001b[0mself\u001b[0m\u001b[0;34m.\u001b[0m\u001b[0m_sanitize_column\u001b[0m\u001b[0;34m(\u001b[0m\u001b[0mcolumn\u001b[0m\u001b[0;34m,\u001b[0m \u001b[0mvalue\u001b[0m\u001b[0;34m,\u001b[0m \u001b[0mbroadcast\u001b[0m\u001b[0;34m=\u001b[0m\u001b[0;32mFalse\u001b[0m\u001b[0;34m)\u001b[0m\u001b[0;34m\u001b[0m\u001b[0;34m\u001b[0m\u001b[0m\n\u001b[1;32m   3221\u001b[0m         self._data.insert(loc, column, value,\n\u001b[0;32m-> 3222\u001b[0;31m                           allow_duplicates=allow_duplicates)\n\u001b[0m\u001b[1;32m   3223\u001b[0m \u001b[0;34m\u001b[0m\u001b[0m\n\u001b[1;32m   3224\u001b[0m     \u001b[0;32mdef\u001b[0m \u001b[0massign\u001b[0m\u001b[0;34m(\u001b[0m\u001b[0mself\u001b[0m\u001b[0;34m,\u001b[0m \u001b[0;34m**\u001b[0m\u001b[0mkwargs\u001b[0m\u001b[0;34m)\u001b[0m\u001b[0;34m:\u001b[0m\u001b[0;34m\u001b[0m\u001b[0;34m\u001b[0m\u001b[0m\n",
      "\u001b[0;32m/Library/Frameworks/Python.framework/Versions/3.7/lib/python3.7/site-packages/pandas/core/internals.py\u001b[0m in \u001b[0;36minsert\u001b[0;34m(self, loc, item, value, allow_duplicates)\u001b[0m\n\u001b[1;32m   4336\u001b[0m         \u001b[0;32mif\u001b[0m \u001b[0;32mnot\u001b[0m \u001b[0mallow_duplicates\u001b[0m \u001b[0;32mand\u001b[0m \u001b[0mitem\u001b[0m \u001b[0;32min\u001b[0m \u001b[0mself\u001b[0m\u001b[0;34m.\u001b[0m\u001b[0mitems\u001b[0m\u001b[0;34m:\u001b[0m\u001b[0;34m\u001b[0m\u001b[0;34m\u001b[0m\u001b[0m\n\u001b[1;32m   4337\u001b[0m             \u001b[0;31m# Should this be a different kind of error??\u001b[0m\u001b[0;34m\u001b[0m\u001b[0;34m\u001b[0m\u001b[0;34m\u001b[0m\u001b[0m\n\u001b[0;32m-> 4338\u001b[0;31m             \u001b[0;32mraise\u001b[0m \u001b[0mValueError\u001b[0m\u001b[0;34m(\u001b[0m\u001b[0;34m'cannot insert {}, already exists'\u001b[0m\u001b[0;34m.\u001b[0m\u001b[0mformat\u001b[0m\u001b[0;34m(\u001b[0m\u001b[0mitem\u001b[0m\u001b[0;34m)\u001b[0m\u001b[0;34m)\u001b[0m\u001b[0;34m\u001b[0m\u001b[0;34m\u001b[0m\u001b[0m\n\u001b[0m\u001b[1;32m   4339\u001b[0m \u001b[0;34m\u001b[0m\u001b[0m\n\u001b[1;32m   4340\u001b[0m         \u001b[0;32mif\u001b[0m \u001b[0;32mnot\u001b[0m \u001b[0misinstance\u001b[0m\u001b[0;34m(\u001b[0m\u001b[0mloc\u001b[0m\u001b[0;34m,\u001b[0m \u001b[0mint\u001b[0m\u001b[0;34m)\u001b[0m\u001b[0;34m:\u001b[0m\u001b[0;34m\u001b[0m\u001b[0;34m\u001b[0m\u001b[0m\n",
      "\u001b[0;31mValueError\u001b[0m: cannot insert level_0, already exists"
     ]
    }
   ],
   "source": [
    "# Append the column of median income for each colomn\n",
    "new_incomes = pd.merge(df_train, grouped, how = 'inner', on = 'nomprov').loc[:,[\"nomprov\",\"renta_y\"]]\n",
    "new_incomes = new_incomes.rename(columns={'renta_y':'renta'}).sort_values(\"nomprov\")\n",
    "df_train.sort_values('nomprov', inplace = True)\n",
    "#df_train = df_train.reset_index()\n",
    "new_incomes = new_incomes.reset_index()"
   ]
  },
  {
   "cell_type": "code",
   "execution_count": 145,
   "metadata": {},
   "outputs": [],
   "source": [
    "# Fill in the column with median value for each entry\n",
    "df_train.loc[df_train.renta.isnull(),\"renta\"] = new_incomes.loc[df_train.renta.isnull(),\"renta\"].reset_index()\n",
    "df_train.loc[df_train.renta.isnull(),\"renta\"] = df_train.loc[df_train.renta.notnull(),'renta'].median()\n",
    "df_train.sort_values(by='fecha_dato', inplace = True)\n"
   ]
  },
  {
   "cell_type": "code",
   "execution_count": 152,
   "metadata": {},
   "outputs": [
    {
     "name": "stdout",
     "output_type": "stream",
     "text": [
      "Unique values for ind_empleado:\n",
      " ['N' 'A' nan 'B'] \n",
      "\n",
      "Unique values for pais_residencia:\n",
      " ['ES' nan 'FR' 'CU' 'RO' 'AE' 'NL' 'GB' 'CO' 'TG' 'AR' 'DE' 'BG' 'PY' 'VE'\n",
      " 'US' 'EC' 'BO' 'BR' 'AU' 'PA' 'IN' 'BE' 'CH' 'DO' 'SE' 'MX'] \n",
      "\n",
      "Unique values for sexo:\n",
      " ['V' 'H' nan] \n",
      "\n",
      "Unique values for ult_fec_cli_1t:\n",
      " [nan '2015-07-22' '2015-07-09' '2015-07-24' '2015-07-29' '2015-07-03'\n",
      " '2015-07-21' '2015-07-01' '2015-07-07' '2015-07-23' '2015-07-27'\n",
      " '2015-07-16' '2015-08-14' '2015-08-27' '2015-08-10' '2015-08-19'\n",
      " '2015-08-13' '2015-08-11' '2015-08-03' '2015-08-17' '2015-09-16'\n",
      " '2015-09-04' '2015-09-17' '2015-09-08' '2015-09-14' '2015-09-09'\n",
      " '2015-09-11' '2015-09-29' '2015-09-18' '2015-10-28' '2015-10-02'\n",
      " '2015-10-21' '2015-10-07' '2015-10-26' '2015-10-01' '2015-10-22'\n",
      " '2015-10-19' '2015-10-08' '2015-10-23' '2015-10-13' '2015-10-16'\n",
      " '2015-10-09' '2015-11-17' '2015-11-20' '2015-11-06' '2015-11-27'\n",
      " '2015-11-16' '2015-11-18' '2015-11-26' '2015-11-04' '2015-11-03'\n",
      " '2015-11-19' '2015-11-12' '2015-11-02' '2015-11-13' '2015-11-10'\n",
      " '2015-12-04' '2015-12-09' '2015-12-11' '2015-12-16' '2015-12-14'\n",
      " '2015-12-24' '2015-12-28' '2015-12-17' '2015-12-23' '2015-12-18'\n",
      " '2015-12-02' '2015-12-30' '2015-12-01' '2015-12-07' '2015-12-29'\n",
      " '2015-12-21' '2016-01-12' '2016-01-28' '2016-01-08' '2016-01-20'\n",
      " '2016-01-14' '2016-01-05' '2016-01-19' '2016-01-15' '2016-01-22'\n",
      " '2016-01-27' '2016-01-13' '2016-01-07' '2016-01-21' '2016-01-18'\n",
      " '2016-02-12' '2016-02-18' '2016-02-01' '2016-02-03' '2016-02-23'\n",
      " '2016-02-10' '2016-02-25' '2016-02-11' '2016-02-15' '2016-02-16'\n",
      " '2016-03-04' '2016-03-07' '2016-03-08' '2016-03-23' '2016-03-22'\n",
      " '2016-03-24' '2016-03-09' '2016-03-01' '2016-03-30' '2016-03-18'\n",
      " '2016-03-03' '2016-04-13' '2016-04-06' '2016-04-26' '2016-04-04'\n",
      " '2016-04-22' '2016-04-19' '2016-04-11' '2016-04-08' '2016-05-13'\n",
      " '2016-05-10' '2016-05-11' '2016-05-06' '2016-05-19' '2016-05-30'\n",
      " '2016-05-09' '2016-05-26' '2016-05-24' '2016-05-27' '2016-05-04'\n",
      " '2016-05-12'] \n",
      "\n",
      "Unique values for indrel_1mes:\n",
      " [1.0 nan '1' '1.0' '3.0' 3.0 '3' '2.0' 'P' 2.0 '2' 4.0] \n",
      "\n",
      "Unique values for tiprel_1mes:\n",
      " ['A' 'I' nan 'P' 'R'] \n",
      "\n",
      "Unique values for indresi:\n",
      " ['S' nan 'N'] \n",
      "\n",
      "Unique values for indext:\n",
      " ['N' 'S' nan] \n",
      "\n",
      "Unique values for conyuemp:\n",
      " [nan 'N'] \n",
      "\n",
      "Unique values for canal_entrada:\n",
      " ['KAY' 'KHE' 'KAS' 'KAT' '013' 'KFA' 'KFC' 'KHD' 'KCC' 'KCH' 'KDM' 'KFD'\n",
      " 'KAH' 'KBZ' 'KAW' 'KCB' 'KAG' 'KAZ' 'KAF' 'KDT' 'KDU' 'KAE' 'KAQ' 'KGX'\n",
      " 'KEW' 'KAP' 'KFT' 'KHC' 'RED' 'KAO' 'KAJ' 'KHF' 'KDN' 'KBQ' 'KHK' 'KBB'\n",
      " 'KBH' 'KCI' 'KDQ' 'KFG' 'KAA' 'KDR' 'KCK' '007' 'KAR' 'KAM' 'KEN' 'KEY'\n",
      " 'KFL' 'KAB' 'KDW' 'KAI' 'KEJ' 'KHL' 'KDS' 'KFS' 'KFU' 'KAC' 'KGY' 'KDZ'\n",
      " 'KAD' 'KBO' 'KAL' 'KBF' 'KDO' 'KEL' 'KFN' 'KFF' 'KDV' nan 'KEG' 'KFI'\n",
      " 'KFJ' 'KCL' 'KDE' 'KCM' 'KGV' 'KBM' 'KEH' 'KCG' 'KBY' 'KCA' 'KCQ' 'KCU'\n",
      " 'KEZ' 'KES' 'KFP' 'KFH' 'KEQ' 'KCN' 'KHN' 'KHO' 'KHM' 'KEA' 'KBS' 'KBU'\n",
      " 'KBV' 'KEO' 'KDX' 'KCD' 'KCO' 'KCV' 'KCE' 'KDA' 'KHQ'] \n",
      "\n",
      "Unique values for indfall:\n",
      " ['N' 'S' nan] \n",
      "\n",
      "Unique values for segmento:\n",
      " ['02 - PARTICULARES' '03 - UNIVERSITARIO' '01 - TOP' nan] \n",
      "\n"
     ]
    }
   ],
   "source": [
    "### Investigate the rest of the missing columns with non-numeric value\n",
    "# Make all the object data into string\n",
    "string_data = df_train.select_dtypes(include = 'object')\n",
    "missing_columns = [col for col in string_data if string_data[col].isnull().any()]\n",
    "for col in missing_columns:\n",
    "    print (\"Unique values for {0}:\\n {1} \\n\".format(col, string_data[col].unique()))\n",
    "    \n",
    "    "
   ]
  },
  {
   "cell_type": "code",
   "execution_count": 154,
   "metadata": {},
   "outputs": [],
   "source": [
    "### Fill in whatever make sence\n",
    "\n",
    "df_train.loc[df_train.indfall.isnull(),\"indfall\"] = \"N\"\n",
    "df_train.loc[df_train.tiprel_1mes.isnull(),\"tiprel_1mes\"] = \"A\"\n",
    "df_train.tiprel_1mes = df_train.tiprel_1mes.astype(\"category\")\n",
    "\n",
    "# Clean up the type\n",
    "map_dict = { 1.0  : \"1\",\n",
    "            \"1.0\" : \"1\",\n",
    "            \"1\"   : \"1\",\n",
    "            \"3.0\" : \"3\",\n",
    "            \"P\"   : \"P\",\n",
    "            3.0   : \"3\",\n",
    "            2.0   : \"2\",\n",
    "            \"3\"   : \"3\",\n",
    "            \"2.0\" : \"2\",\n",
    "            \"4.0\" : \"4\",\n",
    "            \"4\"   : \"4\",\n",
    "            \"2\"   : \"2\"}\n",
    "\n",
    "df_train.indrel_1mes.fillna(\"P\",inplace=True)\n",
    "df_train.indrel_1mes = df_train.indrel_1mes.apply(lambda x: map_dict.get(x,x))\n",
    "df_train.indrel_1mes = df_train.indrel_1mes.astype(\"category\")\n",
    "\n",
    "# Fill in with UNKNOWN\n",
    "unknown_cols = [col for col in missing_columns if col not in [\"indfall\",\"tiprel_1mes\",\"indrel_1mes\"]]\n",
    "for col in unknown_cols:\n",
    "    df_train.loc[df_train[col].isnull(),col] = \"UNKNOWN\""
   ]
  },
  {
   "cell_type": "code",
   "execution_count": 158,
   "metadata": {},
   "outputs": [],
   "source": [
    "# convert into int values\n",
    "feature_cols = df_train.iloc[:1,].filter(regex = \"ind_+.*ult.*\").columns.values\n",
    "for col in feature_cols:\n",
    "    df_train[col] = df_train[col].astype(int)"
   ]
  },
  {
   "cell_type": "code",
   "execution_count": 161,
   "metadata": {},
   "outputs": [],
   "source": [
    "### Check whether the customer performs any action on the item\n",
    "unique_months = pd.DataFrame(pd.Series(df_train.\n",
    "                                      fecha_dato.unique()).sort_values().\n",
    "                            reset_index(drop = True))"
   ]
  },
  {
   "cell_type": "code",
   "execution_count": 165,
   "metadata": {},
   "outputs": [],
   "source": [
    "unique_months[\"month_id\"] = pd.Series(range(1,1+unique_months.size))\n",
    "unique_months[\"month_next_id\"] = 1 + unique_months[\"month_id\"]\n",
    "unique_months.rename(columns={0:\"fecha_dato\"},inplace=True)"
   ]
  },
  {
   "cell_type": "code",
   "execution_count": 167,
   "metadata": {},
   "outputs": [],
   "source": [
    "df_train = pd.merge(df_train,unique_months, on = 'fecha_dato')"
   ]
  },
  {
   "cell_type": "code",
   "execution_count": 169,
   "metadata": {},
   "outputs": [],
   "source": [
    "def status_change(x):\n",
    "    diffs = x.diff().fillna(0)\n",
    "    # first occurrence will be considered Maintained, \n",
    "    #which is a little lazy. A better way would be to check if \n",
    "    #the earliest date was the same as the earliest we have in the dataset\n",
    "    #and consider those separately. Entries with earliest dates later than that have \n",
    "    #joined and should be labeled as \"Added\"\n",
    "    label = [\"Added\" if i==1 \\\n",
    "         else \"Dropped\" if i==-1 \\\n",
    "         else \"Maintained\" for i in diffs]\n",
    "    return label\n"
   ]
  },
  {
   "cell_type": "code",
   "execution_count": 170,
   "metadata": {},
   "outputs": [],
   "source": [
    "df_train.loc[:, feature_cols] = df_train.loc[:,[i for i in feature_cols]+[\"ncodpers\"]].groupby(\"ncodpers\").transform(status_change)\n",
    "\n"
   ]
  },
  {
   "cell_type": "code",
   "execution_count": 172,
   "metadata": {},
   "outputs": [
    {
     "data": {
      "text/plain": [
       "level_0                                22297\n",
       "index                                 161371\n",
       "fecha_dato               2015-01-28 00:00:00\n",
       "ncodpers                             1287061\n",
       "ind_empleado                               N\n",
       "pais_residencia                           ES\n",
       "sexo                                       V\n",
       "age                                       21\n",
       "fecha_alta               2014-07-31 00:00:00\n",
       "ind_nuevo                                  0\n",
       "antiguedad                                12\n",
       "indrel                                     1\n",
       "ult_fec_cli_1t                       UNKNOWN\n",
       "indrel_1mes                                1\n",
       "tiprel_1mes                                A\n",
       "indresi                                    S\n",
       "indext                                     N\n",
       "conyuemp                             UNKNOWN\n",
       "canal_entrada                            KHE\n",
       "indfall                                    N\n",
       "nomprov                            BARCELONA\n",
       "ind_actividad_cliente                      1\n",
       "renta                                51509.3\n",
       "segmento                  03 - UNIVERSITARIO\n",
       "ind_ahor_fin_ult1                 Maintained\n",
       "ind_aval_fin_ult1                 Maintained\n",
       "ind_cco_fin_ult1                  Maintained\n",
       "ind_cder_fin_ult1                 Maintained\n",
       "ind_cno_fin_ult1                  Maintained\n",
       "ind_ctju_fin_ult1                 Maintained\n",
       "ind_ctma_fin_ult1                 Maintained\n",
       "ind_ctop_fin_ult1                 Maintained\n",
       "ind_ctpp_fin_ult1                 Maintained\n",
       "ind_deco_fin_ult1                 Maintained\n",
       "ind_deme_fin_ult1                 Maintained\n",
       "ind_dela_fin_ult1                 Maintained\n",
       "ind_ecue_fin_ult1                 Maintained\n",
       "ind_fond_fin_ult1                 Maintained\n",
       "ind_hip_fin_ult1                  Maintained\n",
       "ind_plan_fin_ult1                 Maintained\n",
       "ind_pres_fin_ult1                 Maintained\n",
       "ind_reca_fin_ult1                 Maintained\n",
       "ind_tjcr_fin_ult1                 Maintained\n",
       "ind_valo_fin_ult1                 Maintained\n",
       "ind_viv_fin_ult1                  Maintained\n",
       "ind_nomina_ult1                   Maintained\n",
       "ind_nom_pens_ult1                 Maintained\n",
       "ind_recibo_ult1                   Maintained\n",
       "angiguedad                               NaN\n",
       "month_id                                   1\n",
       "month_next_id                              2\n",
       "Name: 1, dtype: object"
      ]
     },
     "execution_count": 172,
     "metadata": {},
     "output_type": "execute_result"
    }
   ],
   "source": [
    "df_train.iloc[1]"
   ]
  },
  {
   "cell_type": "code",
   "execution_count": null,
   "metadata": {},
   "outputs": [],
   "source": []
  }
 ],
 "metadata": {
  "kernelspec": {
   "display_name": "Python 3",
   "language": "python",
   "name": "python3"
  },
  "language_info": {
   "codemirror_mode": {
    "name": "ipython",
    "version": 3
   },
   "file_extension": ".py",
   "mimetype": "text/x-python",
   "name": "python",
   "nbconvert_exporter": "python",
   "pygments_lexer": "ipython3",
   "version": "3.7.1"
  }
 },
 "nbformat": 4,
 "nbformat_minor": 2
}
